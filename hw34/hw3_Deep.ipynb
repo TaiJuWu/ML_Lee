{
 "cells": [
  {
   "cell_type": "code",
   "execution_count": 1,
   "metadata": {},
   "outputs": [
    {
     "name": "stderr",
     "output_type": "stream",
     "text": [
      "Using TensorFlow backend.\n",
      "/home/shon/anaconda3/envs/Lee_hw3/lib/python3.6/site-packages/tensorflow/python/framework/dtypes.py:523: FutureWarning: Passing (type, 1) or '1type' as a synonym of type is deprecated; in a future version of numpy, it will be understood as (type, (1,)) / '(1,)type'.\n",
      "  _np_qint8 = np.dtype([(\"qint8\", np.int8, 1)])\n",
      "/home/shon/anaconda3/envs/Lee_hw3/lib/python3.6/site-packages/tensorflow/python/framework/dtypes.py:524: FutureWarning: Passing (type, 1) or '1type' as a synonym of type is deprecated; in a future version of numpy, it will be understood as (type, (1,)) / '(1,)type'.\n",
      "  _np_quint8 = np.dtype([(\"quint8\", np.uint8, 1)])\n",
      "/home/shon/anaconda3/envs/Lee_hw3/lib/python3.6/site-packages/tensorflow/python/framework/dtypes.py:525: FutureWarning: Passing (type, 1) or '1type' as a synonym of type is deprecated; in a future version of numpy, it will be understood as (type, (1,)) / '(1,)type'.\n",
      "  _np_qint16 = np.dtype([(\"qint16\", np.int16, 1)])\n",
      "/home/shon/anaconda3/envs/Lee_hw3/lib/python3.6/site-packages/tensorflow/python/framework/dtypes.py:526: FutureWarning: Passing (type, 1) or '1type' as a synonym of type is deprecated; in a future version of numpy, it will be understood as (type, (1,)) / '(1,)type'.\n",
      "  _np_quint16 = np.dtype([(\"quint16\", np.uint16, 1)])\n",
      "/home/shon/anaconda3/envs/Lee_hw3/lib/python3.6/site-packages/tensorflow/python/framework/dtypes.py:527: FutureWarning: Passing (type, 1) or '1type' as a synonym of type is deprecated; in a future version of numpy, it will be understood as (type, (1,)) / '(1,)type'.\n",
      "  _np_qint32 = np.dtype([(\"qint32\", np.int32, 1)])\n",
      "/home/shon/anaconda3/envs/Lee_hw3/lib/python3.6/site-packages/tensorflow/python/framework/dtypes.py:532: FutureWarning: Passing (type, 1) or '1type' as a synonym of type is deprecated; in a future version of numpy, it will be understood as (type, (1,)) / '(1,)type'.\n",
      "  np_resource = np.dtype([(\"resource\", np.ubyte, 1)])\n"
     ]
    }
   ],
   "source": [
    "import numpy as np\n",
    "import keras as K\n",
    "from keras.layers import Dense,Conv2D,MaxPooling2D,Flatten,Dropout\n",
    "from keras.models import Sequential\n",
    "import pandas as pd\n",
    "import gc\n",
    "\n",
    "np.random.seed(10)"
   ]
  },
  {
   "cell_type": "code",
   "execution_count": 2,
   "metadata": {},
   "outputs": [
    {
     "data": {
      "text/html": [
       "<div>\n",
       "<style scoped>\n",
       "    .dataframe tbody tr th:only-of-type {\n",
       "        vertical-align: middle;\n",
       "    }\n",
       "\n",
       "    .dataframe tbody tr th {\n",
       "        vertical-align: top;\n",
       "    }\n",
       "\n",
       "    .dataframe thead th {\n",
       "        text-align: right;\n",
       "    }\n",
       "</style>\n",
       "<table border=\"1\" class=\"dataframe\">\n",
       "  <thead>\n",
       "    <tr style=\"text-align: right;\">\n",
       "      <th></th>\n",
       "      <th>label</th>\n",
       "      <th>feature</th>\n",
       "    </tr>\n",
       "  </thead>\n",
       "  <tbody>\n",
       "    <tr>\n",
       "      <th>0</th>\n",
       "      <td>0</td>\n",
       "      <td>70 80 82 72 58 58 60 63 54 58 60 48 89 115 121...</td>\n",
       "    </tr>\n",
       "    <tr>\n",
       "      <th>1</th>\n",
       "      <td>0</td>\n",
       "      <td>151 150 147 155 148 133 111 140 170 174 182 15...</td>\n",
       "    </tr>\n",
       "    <tr>\n",
       "      <th>2</th>\n",
       "      <td>2</td>\n",
       "      <td>231 212 156 164 174 138 161 173 182 200 106 38...</td>\n",
       "    </tr>\n",
       "    <tr>\n",
       "      <th>3</th>\n",
       "      <td>4</td>\n",
       "      <td>24 32 36 30 32 23 19 20 30 41 21 22 32 34 21 1...</td>\n",
       "    </tr>\n",
       "    <tr>\n",
       "      <th>4</th>\n",
       "      <td>6</td>\n",
       "      <td>4 0 0 0 0 0 0 0 0 0 0 0 3 15 23 28 48 50 58 84...</td>\n",
       "    </tr>\n",
       "    <tr>\n",
       "      <th>...</th>\n",
       "      <td>...</td>\n",
       "      <td>...</td>\n",
       "    </tr>\n",
       "    <tr>\n",
       "      <th>28704</th>\n",
       "      <td>2</td>\n",
       "      <td>84 85 85 85 85 85 85 85 86 86 86 87 86 86 91 9...</td>\n",
       "    </tr>\n",
       "    <tr>\n",
       "      <th>28705</th>\n",
       "      <td>0</td>\n",
       "      <td>114 112 113 113 111 111 112 113 115 113 114 11...</td>\n",
       "    </tr>\n",
       "    <tr>\n",
       "      <th>28706</th>\n",
       "      <td>4</td>\n",
       "      <td>74 81 87 89 95 100 98 93 105 120 127 133 146 1...</td>\n",
       "    </tr>\n",
       "    <tr>\n",
       "      <th>28707</th>\n",
       "      <td>0</td>\n",
       "      <td>222 227 203 90 86 90 84 77 94 87 99 119 134 14...</td>\n",
       "    </tr>\n",
       "    <tr>\n",
       "      <th>28708</th>\n",
       "      <td>4</td>\n",
       "      <td>195 199 205 206 205 203 206 209 208 210 212 21...</td>\n",
       "    </tr>\n",
       "  </tbody>\n",
       "</table>\n",
       "<p>28709 rows × 2 columns</p>\n",
       "</div>"
      ],
      "text/plain": [
       "       label                                            feature\n",
       "0          0  70 80 82 72 58 58 60 63 54 58 60 48 89 115 121...\n",
       "1          0  151 150 147 155 148 133 111 140 170 174 182 15...\n",
       "2          2  231 212 156 164 174 138 161 173 182 200 106 38...\n",
       "3          4  24 32 36 30 32 23 19 20 30 41 21 22 32 34 21 1...\n",
       "4          6  4 0 0 0 0 0 0 0 0 0 0 0 3 15 23 28 48 50 58 84...\n",
       "...      ...                                                ...\n",
       "28704      2  84 85 85 85 85 85 85 85 86 86 86 87 86 86 91 9...\n",
       "28705      0  114 112 113 113 111 111 112 113 115 113 114 11...\n",
       "28706      4  74 81 87 89 95 100 98 93 105 120 127 133 146 1...\n",
       "28707      0  222 227 203 90 86 90 84 77 94 87 99 119 134 14...\n",
       "28708      4  195 199 205 206 205 203 206 209 208 210 212 21...\n",
       "\n",
       "[28709 rows x 2 columns]"
      ]
     },
     "execution_count": 2,
     "metadata": {},
     "output_type": "execute_result"
    }
   ],
   "source": [
    "train_data=pd.read_csv('train.csv')\n",
    "train_y=train_data['label'].values\n",
    "train_x=train_data['feature'].values\n",
    "\n",
    "train_data"
   ]
  },
  {
   "cell_type": "code",
   "execution_count": 3,
   "metadata": {},
   "outputs": [],
   "source": [
    "train_y_onehot=np.zeros((train_y.shape[0],7))\n",
    "for i in range(train_y.shape[0]):\n",
    "    train_y_onehot[i][train_y[i]]=1"
   ]
  },
  {
   "cell_type": "code",
   "execution_count": 4,
   "metadata": {},
   "outputs": [
    {
     "name": "stdout",
     "output_type": "stream",
     "text": [
      "(28709, 7)\n"
     ]
    }
   ],
   "source": [
    "print(train_y_onehot.shape)"
   ]
  },
  {
   "cell_type": "code",
   "execution_count": 5,
   "metadata": {},
   "outputs": [
    {
     "name": "stdout",
     "output_type": "stream",
     "text": [
      "(28709, 2304)\n",
      "CPU times: user 24.5 s, sys: 110 ms, total: 24.7 s\n",
      "Wall time: 24.6 s\n"
     ]
    }
   ],
   "source": [
    "%%time\n",
    "train_x_normalization=np.zeros((train_x.shape[0],48*48))\n",
    "for i in range(train_x.shape[0]):\n",
    "    train_x_normalization[i]=np.array(train_x[i].split()).astype('float32')/255\n",
    "print(train_x_normalization.shape)"
   ]
  },
  {
   "cell_type": "code",
   "execution_count": 6,
   "metadata": {},
   "outputs": [],
   "source": [
    "train_x=train_x_normalization.reshape(train_x_normalization.shape[0],48,48,1)"
   ]
  },
  {
   "cell_type": "markdown",
   "metadata": {},
   "source": [
    "# model"
   ]
  },
  {
   "cell_type": "code",
   "execution_count": 7,
   "metadata": {},
   "outputs": [],
   "source": [
    "model=Sequential()\n",
    "model.add(Conv2D(32, (3,3), strides=(1, 1),padding='same',activation='relu'))\n",
    "model.add(MaxPooling2D(pool_size=(2,2),strides=None))\n",
    "model.add(Conv2D(32, (3,3), strides=(1, 1),padding='same',activation='relu'))\n",
    "model.add(MaxPooling2D(pool_size=(2,2),strides=None))\n",
    "model.add(Flatten())\n",
    "model.add(Dense(1024))\n",
    "model.add(Dropout(0.25))\n",
    "model.add(Dense(1024))\n",
    "model.add(Dropout(0.25))\n",
    "model.add(Dense(1024))\n",
    "model.add(Dropout(0.25))\n",
    "model.add(Dense(1024))\n",
    "model.add(Dense(7,activation='softmax'))\n",
    "model.compile(loss='categorical_crossentropy',optimizer='adam',metrics=['acc'])"
   ]
  },
  {
   "cell_type": "code",
   "execution_count": 8,
   "metadata": {},
   "outputs": [
    {
     "name": "stdout",
     "output_type": "stream",
     "text": [
      "Train on 22967 samples, validate on 5742 samples\n",
      "Epoch 1/30\n",
      "22967/22967 [==============================] - 213s 9ms/step - loss: 1.8578 - acc: 0.2383 - val_loss: 1.8029 - val_acc: 0.2520\n",
      "Epoch 2/30\n",
      "22967/22967 [==============================] - 183s 8ms/step - loss: 1.8087 - acc: 0.2499 - val_loss: 1.7942 - val_acc: 0.2536\n",
      "Epoch 3/30\n",
      "22967/22967 [==============================] - 182s 8ms/step - loss: 1.7985 - acc: 0.2552 - val_loss: 1.7682 - val_acc: 0.2828\n",
      "Epoch 4/30\n",
      "22967/22967 [==============================] - 183s 8ms/step - loss: 1.7489 - acc: 0.2851 - val_loss: 1.7123 - val_acc: 0.3124\n",
      "Epoch 5/30\n",
      "22967/22967 [==============================] - 208s 9ms/step - loss: 1.6892 - acc: 0.3271 - val_loss: 1.7106 - val_acc: 0.3373\n",
      "Epoch 6/30\n",
      "22967/22967 [==============================] - 214s 9ms/step - loss: 1.6425 - acc: 0.3539 - val_loss: 1.6163 - val_acc: 0.3685\n",
      "Epoch 7/30\n",
      "22967/22967 [==============================] - 218s 9ms/step - loss: 1.5939 - acc: 0.3776 - val_loss: 1.6028 - val_acc: 0.3699\n",
      "Epoch 8/30\n",
      "22967/22967 [==============================] - 241s 11ms/step - loss: 1.5499 - acc: 0.4015 - val_loss: 1.5428 - val_acc: 0.4098\n",
      "Epoch 9/30\n",
      "22967/22967 [==============================] - 243s 11ms/step - loss: 1.5109 - acc: 0.4145 - val_loss: 1.5940 - val_acc: 0.3812\n",
      "Epoch 10/30\n",
      "22967/22967 [==============================] - 215s 9ms/step - loss: 1.4912 - acc: 0.4253 - val_loss: 1.5740 - val_acc: 0.4096\n",
      "Epoch 11/30\n",
      "22967/22967 [==============================] - 202s 9ms/step - loss: 1.4632 - acc: 0.4419 - val_loss: 1.5273 - val_acc: 0.4188\n",
      "Epoch 12/30\n",
      "22967/22967 [==============================] - 203s 9ms/step - loss: 1.4446 - acc: 0.4439 - val_loss: 1.5543 - val_acc: 0.4082\n",
      "Epoch 13/30\n",
      "22967/22967 [==============================] - 198s 9ms/step - loss: 1.4287 - acc: 0.4486 - val_loss: 1.5109 - val_acc: 0.4223\n",
      "Epoch 14/30\n",
      "22967/22967 [==============================] - 187s 8ms/step - loss: 1.4077 - acc: 0.4590 - val_loss: 1.5133 - val_acc: 0.4134\n",
      "Epoch 15/30\n",
      "22967/22967 [==============================] - 189s 8ms/step - loss: 1.3938 - acc: 0.4651 - val_loss: 1.4846 - val_acc: 0.4352\n",
      "Epoch 16/30\n",
      "22967/22967 [==============================] - 228s 10ms/step - loss: 1.3843 - acc: 0.4669 - val_loss: 1.5073 - val_acc: 0.4232\n",
      "Epoch 17/30\n",
      "22967/22967 [==============================] - 275s 12ms/step - loss: 1.3687 - acc: 0.4748 - val_loss: 1.4770 - val_acc: 0.4356\n",
      "Epoch 18/30\n",
      "22967/22967 [==============================] - 246s 11ms/step - loss: 1.3574 - acc: 0.4795 - val_loss: 1.5243 - val_acc: 0.4253\n",
      "Epoch 19/30\n",
      "22967/22967 [==============================] - 174s 8ms/step - loss: 1.3416 - acc: 0.4883 - val_loss: 1.5384 - val_acc: 0.4232\n",
      "Epoch 20/30\n",
      "22967/22967 [==============================] - 175s 8ms/step - loss: 1.3386 - acc: 0.4860 - val_loss: 1.5308 - val_acc: 0.4371\n",
      "Epoch 21/30\n",
      "22967/22967 [==============================] - 174s 8ms/step - loss: 1.3289 - acc: 0.4923 - val_loss: 1.5483 - val_acc: 0.4321\n",
      "Epoch 22/30\n",
      "22967/22967 [==============================] - 157s 7ms/step - loss: 1.3168 - acc: 0.4957 - val_loss: 1.5705 - val_acc: 0.4204\n",
      "Epoch 23/30\n",
      "22967/22967 [==============================] - 93s 4ms/step - loss: 1.3075 - acc: 0.4999 - val_loss: 1.5663 - val_acc: 0.4154\n",
      "Epoch 24/30\n",
      "22967/22967 [==============================] - 98s 4ms/step - loss: 1.3021 - acc: 0.5042 - val_loss: 1.5737 - val_acc: 0.4354\n",
      "Epoch 25/30\n",
      "22967/22967 [==============================] - 93s 4ms/step - loss: 1.2912 - acc: 0.5048 - val_loss: 1.6173 - val_acc: 0.4121\n",
      "Epoch 26/30\n",
      "22967/22967 [==============================] - 88s 4ms/step - loss: 1.2899 - acc: 0.5084 - val_loss: 1.6089 - val_acc: 0.4326\n",
      "Epoch 27/30\n",
      "22967/22967 [==============================] - 88s 4ms/step - loss: 1.2796 - acc: 0.5082 - val_loss: 1.6127 - val_acc: 0.4197\n",
      "Epoch 28/30\n",
      "22967/22967 [==============================] - 88s 4ms/step - loss: 1.2822 - acc: 0.5089 - val_loss: 1.6048 - val_acc: 0.4431\n",
      "Epoch 29/30\n",
      "22967/22967 [==============================] - 88s 4ms/step - loss: 1.2695 - acc: 0.5164 - val_loss: 1.6140 - val_acc: 0.4277\n",
      "Epoch 30/30\n",
      "22967/22967 [==============================] - 88s 4ms/step - loss: 1.2668 - acc: 0.5208 - val_loss: 1.6570 - val_acc: 0.4220\n",
      "CPU times: user 2h 31min 20s, sys: 12min 42s, total: 2h 44min 3s\n",
      "Wall time: 1h 27min 13s\n"
     ]
    }
   ],
   "source": [
    "%%time\n",
    "# 未安裝tensorflow-gpu的結果\n",
    "train_history=model.fit(train_x,train_y_onehot,epochs=30,validation_split=0.2)"
   ]
  },
  {
   "cell_type": "code",
   "execution_count": 9,
   "metadata": {},
   "outputs": [
    {
     "name": "stdout",
     "output_type": "stream",
     "text": [
      "_________________________________________________________________\n",
      "Layer (type)                 Output Shape              Param #   \n",
      "=================================================================\n",
      "conv2d_1 (Conv2D)            (None, 48, 48, 32)        320       \n",
      "_________________________________________________________________\n",
      "max_pooling2d_1 (MaxPooling2 (None, 24, 24, 32)        0         \n",
      "_________________________________________________________________\n",
      "conv2d_2 (Conv2D)            (None, 24, 24, 32)        9248      \n",
      "_________________________________________________________________\n",
      "max_pooling2d_2 (MaxPooling2 (None, 12, 12, 32)        0         \n",
      "_________________________________________________________________\n",
      "flatten_1 (Flatten)          (None, 4608)              0         \n",
      "_________________________________________________________________\n",
      "dense_1 (Dense)              (None, 1024)              4719616   \n",
      "_________________________________________________________________\n",
      "dropout_1 (Dropout)          (None, 1024)              0         \n",
      "_________________________________________________________________\n",
      "dense_2 (Dense)              (None, 1024)              1049600   \n",
      "_________________________________________________________________\n",
      "dropout_2 (Dropout)          (None, 1024)              0         \n",
      "_________________________________________________________________\n",
      "dense_3 (Dense)              (None, 1024)              1049600   \n",
      "_________________________________________________________________\n",
      "dropout_3 (Dropout)          (None, 1024)              0         \n",
      "_________________________________________________________________\n",
      "dense_4 (Dense)              (None, 1024)              1049600   \n",
      "_________________________________________________________________\n",
      "dense_5 (Dense)              (None, 7)                 7175      \n",
      "=================================================================\n",
      "Total params: 7,885,159\n",
      "Trainable params: 7,885,159\n",
      "Non-trainable params: 0\n",
      "_________________________________________________________________\n"
     ]
    }
   ],
   "source": [
    "model.summary()"
   ]
  },
  {
   "cell_type": "code",
   "execution_count": 18,
   "metadata": {},
   "outputs": [
    {
     "name": "stdout",
     "output_type": "stream",
     "text": [
      "        id                                            feature\n",
      "0        0  161 176 181 186 166 140 144 123 87 76 86 98 10...\n",
      "1        1  81 106 120 119 121 129 133 144 151 159 155 164...\n",
      "2        2  246 247 248 249 247 248 247 247 247 249 250 25...\n",
      "3        3  166 166 164 162 162 164 169 153 139 84 104 124...\n",
      "4        4  21 25 36 26 134 255 247 248 248 248 248 248 24...\n",
      "...    ...                                                ...\n",
      "7173  7173  253 252 254 240 130 105 105 93 107 111 131 137...\n",
      "7174  7174  220 216 201 175 190 209 218 227 231 228 228 22...\n",
      "7175  7175  158 46 30 48 102 156 189 203 204 197 196 201 1...\n",
      "7176  7176  0 0 0 0 0 1 5 6 21 101 122 130 141 146 151 154...\n",
      "7177  7177  154 141 77 113 229 215 204 176 120 56 126 162 ...\n",
      "\n",
      "[7178 rows x 2 columns]\n"
     ]
    }
   ],
   "source": [
    "test_data=pd.read_csv('test.csv')\n",
    "test_x=test_data['feature']\n",
    "\n",
    "print(test_data)"
   ]
  },
  {
   "cell_type": "code",
   "execution_count": 19,
   "metadata": {},
   "outputs": [
    {
     "name": "stdout",
     "output_type": "stream",
     "text": [
      "(7178, 2304)\n",
      "CPU times: user 6.75 s, sys: 189 ms, total: 6.94 s\n",
      "Wall time: 6.62 s\n"
     ]
    }
   ],
   "source": [
    "%%time\n",
    "test_x_normalization=np.zeros((test_x.shape[0],48*48))\n",
    "for i in range(test_x.shape[0]):\n",
    "    test_x_normalization[i]=np.array(test_x[i].split()).astype('float32')/255\n",
    "print(test_x_normalization.shape)\n"
   ]
  },
  {
   "cell_type": "code",
   "execution_count": 20,
   "metadata": {},
   "outputs": [],
   "source": [
    "test_x=test_x_normalization.reshape(test_x_normalization.shape[0],48,48,1)"
   ]
  },
  {
   "cell_type": "code",
   "execution_count": 21,
   "metadata": {},
   "outputs": [
    {
     "name": "stdout",
     "output_type": "stream",
     "text": [
      "[3 4 3 ... 3 0 3]\n"
     ]
    }
   ],
   "source": [
    "prediction=model.predict_classes(test_x)\n",
    "print(prediction)"
   ]
  },
  {
   "cell_type": "code",
   "execution_count": 22,
   "metadata": {},
   "outputs": [
    {
     "data": {
      "text/plain": [
       "(7178,)"
      ]
     },
     "execution_count": 22,
     "metadata": {},
     "output_type": "execute_result"
    }
   ],
   "source": [
    "prediction.shape"
   ]
  },
  {
   "cell_type": "code",
   "execution_count": 23,
   "metadata": {},
   "outputs": [
    {
     "data": {
      "image/png": "[encoded data removed]",
      "text/plain": [
       "<Figure size 432x288 with 1 Axes>"
      ]
     },
     "metadata": {
      "needs_background": "light"
     },
     "output_type": "display_data"
    },
    {
     "data": {
      "image/png": "[encoded data removed]",
      "text/plain": [
       "<Figure size 432x288 with 1 Axes>"
      ]
     },
     "metadata": {
      "needs_background": "light"
     },
     "output_type": "display_data"
    }
   ],
   "source": [
    "import matplotlib.pyplot as plt\n",
    "\n",
    "# Plot training & validation accuracy values\n",
    "plt.plot(train_history.history['acc'])\n",
    "plt.plot(train_history.history['val_acc'])\n",
    "plt.title('Model accuracy')\n",
    "plt.ylabel('Accuracy')\n",
    "plt.xlabel('Epoch')\n",
    "plt.legend(['Train', 'Test'], loc='upper left')\n",
    "plt.savefig('deep_acc.png')\n",
    "plt.show()\n",
    "\n",
    "# Plot training & validation loss values\n",
    "plt.plot(train_history.history['loss'])\n",
    "plt.plot(train_history.history['val_loss'])\n",
    "plt.title('Model loss')\n",
    "plt.ylabel('Loss')\n",
    "plt.xlabel('Epoch')\n",
    "plt.legend(['Train', 'Test'], loc='upper left')\n",
    "plt.savefig('deep_loss.png')\n",
    "plt.show()"
   ]
  },
  {
   "cell_type": "code",
   "execution_count": 24,
   "metadata": {},
   "outputs": [],
   "source": [
    "model.save('deep_weight.h5')"
   ]
  },
  {
   "cell_type": "code",
   "execution_count": null,
   "metadata": {},
   "outputs": [],
   "source": []
  }
 ],
 "metadata": {
  "kernelspec": {
   "display_name": "Python 3",
   "language": "python",
   "name": "python3"
  },
  "language_info": {
   "codemirror_mode": {
    "name": "ipython",
    "version": 3
   },
   "file_extension": ".py",
   "mimetype": "text/x-python",
   "name": "python",
   "nbconvert_exporter": "python",
   "pygments_lexer": "ipython3",
   "version": "3.6.10"
  }
 },
 "nbformat": 4,
 "nbformat_minor": 4
}

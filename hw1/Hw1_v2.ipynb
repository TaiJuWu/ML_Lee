{
 "cells": [
  {
   "cell_type": "code",
   "execution_count": 1,
   "metadata": {},
   "outputs": [
    {
     "name": "stderr",
     "output_type": "stream",
     "text": [
      "Using TensorFlow backend.\n"
     ]
    }
   ],
   "source": [
    "import pandas as pd\n",
    "import numpy as np\n",
    "import keras\n",
    "from keras.layers import Dense\n",
    "from keras.layers import BatchNormalization\n",
    "from keras import Sequential\n",
    "import csv\n",
    "import math"
   ]
  },
  {
   "cell_type": "markdown",
   "metadata": {},
   "source": [
    "# read data"
   ]
  },
  {
   "cell_type": "code",
   "execution_count": 2,
   "metadata": {
    "scrolled": true
   },
   "outputs": [
    {
     "name": "stdout",
     "output_type": "stream",
     "text": [
      "              日期  測站          測項     0     1     2     3     4     5     6  \\\n",
      "0       2014/1/1  豐原    AMB_TEMP    14    14    14    13    12    12    12   \n",
      "1       2014/1/1  豐原         CH4   1.8   1.8   1.8   1.8   1.8   1.8   1.8   \n",
      "2       2014/1/1  豐原          CO  0.51  0.41  0.39  0.37  0.35   0.3  0.37   \n",
      "3       2014/1/1  豐原        NMHC   0.2  0.15  0.13  0.12  0.11  0.06   0.1   \n",
      "4       2014/1/1  豐原          NO   0.9   0.6   0.5   1.7   1.8   1.5   1.9   \n",
      "...          ...  ..         ...   ...   ...   ...   ...   ...   ...   ...   \n",
      "4315  2014/12/20  豐原         THC   1.8   1.8   1.8   1.8   1.8   1.7   1.7   \n",
      "4316  2014/12/20  豐原       WD_HR    46    13    61    44    55    68    66   \n",
      "4317  2014/12/20  豐原  WIND_DIREC    36    55    72   327    74    52    59   \n",
      "4318  2014/12/20  豐原  WIND_SPEED   1.9   2.4   1.9   2.8   2.3   1.9   2.1   \n",
      "4319  2014/12/20  豐原       WS_HR   0.7   0.8   1.8     1   1.9   1.7   2.1   \n",
      "\n",
      "      ...    14    15    16    17    18    19    20    21    22    23  \n",
      "0     ...    22    22    21    19    17    16    15    15    15    15  \n",
      "1     ...   1.8   1.8   1.8   1.8   1.8   1.8   1.8   1.8   1.8   1.8  \n",
      "2     ...  0.37  0.37  0.47  0.69  0.56  0.45  0.38  0.35  0.36  0.32  \n",
      "3     ...   0.1  0.13  0.14  0.23  0.18  0.12   0.1  0.09   0.1  0.08  \n",
      "4     ...   2.5   2.2   2.5   2.3   2.1   1.9   1.5   1.6   1.8   1.5  \n",
      "...   ...   ...   ...   ...   ...   ...   ...   ...   ...   ...   ...  \n",
      "4315  ...   1.8   1.8     2   2.1     2   1.9   1.9   1.9     2     2  \n",
      "4316  ...    59   308   327    21   100   109   108   114   108   109  \n",
      "4317  ...    18   311    52    54   121    97   107   118   100   105  \n",
      "4318  ...   2.3   2.6   1.3     1   1.5     1   1.7   1.5     2     2  \n",
      "4319  ...   1.3   1.7   0.7   0.4   1.1   1.4   1.3   1.6   1.8     2  \n",
      "\n",
      "[4320 rows x 27 columns]\n"
     ]
    }
   ],
   "source": [
    "train_data = pd.read_csv(\"train.csv\", encoding=\"big5\")\n",
    "print(train_data)"
   ]
  },
  {
   "cell_type": "code",
   "execution_count": 3,
   "metadata": {},
   "outputs": [
    {
     "name": "stdout",
     "output_type": "stream",
     "text": [
      "          id          測向     0     1     2     3     4     5     6     7     8\n",
      "0       id_0    AMB_TEMP    21    21    20    20    19    19    19    18    17\n",
      "1       id_0         CH4   1.7   1.7   1.7   1.7   1.7   1.7   1.7   1.7   1.8\n",
      "2       id_0          CO  0.39  0.36  0.36   0.4  0.53  0.55  0.34  0.31  0.23\n",
      "3       id_0        NMHC  0.16  0.24  0.22  0.27  0.27  0.26  0.27  0.29   0.1\n",
      "4       id_0          NO   1.3   1.3   1.3   1.3   1.4   1.6   1.2   1.1   0.9\n",
      "...      ...         ...   ...   ...   ...   ...   ...   ...   ...   ...   ...\n",
      "4315  id_239         THC   1.8   1.8   1.8   1.8   1.7   1.7   1.7   1.7   1.7\n",
      "4316  id_239       WD_HR    80    92    95    95    96    97    96    96    84\n",
      "4317  id_239  WIND_DIREC    76    99    93    97    93    94    98    97    65\n",
      "4318  id_239  WIND_SPEED   2.2   3.2   2.5   3.6     5   4.2   5.7   4.9   3.6\n",
      "4319  id_239       WS_HR   1.7   2.8   2.6   3.3   3.5     5   4.9   5.2   3.6\n",
      "\n",
      "[4320 rows x 11 columns]\n"
     ]
    }
   ],
   "source": [
    "test_data = pd.read_csv(\"test.csv\",header=None)\n",
    "\n",
    "r=range(test_data.shape[1]-2)\n",
    "columns=['id','測向']\n",
    "for i in r:\n",
    "    columns.extend(str(i))\n",
    "test_data.columns=columns\n",
    "print(test_data)"
   ]
  },
  {
   "cell_type": "markdown",
   "metadata": {},
   "source": [
    "# data preprocess"
   ]
  },
  {
   "cell_type": "code",
   "execution_count": 4,
   "metadata": {},
   "outputs": [],
   "source": [
    "for i in range(10 ,len(train_data), 18):\n",
    "    rainFall_row=train_data.iloc[i]\n",
    "#     print(rainFall_row)\n",
    "    for j in range(len(rainFall_row)):\n",
    "        if rainFall_row[j]=='NR':\n",
    "            rainFall_row[j]=0\n",
    "        #print(rainFall_row[j])"
   ]
  },
  {
   "cell_type": "code",
   "execution_count": 5,
   "metadata": {
    "scrolled": true
   },
   "outputs": [
    {
     "name": "stdout",
     "output_type": "stream",
     "text": [
      "(4080, 24)\n",
      "(240, 24)\n"
     ]
    }
   ],
   "source": [
    "train_y=train_data[train_data['測項'].isin(['PM2.5'])]\n",
    "train_x=train_data[True^train_data['測項'].isin(['PM2.5'])]\n",
    "\n",
    "train_x=train_x.iloc[:,3:].values\n",
    "train_y=train_y.iloc[:,3:].values\n",
    "\n",
    "train_x=np.array(train_x,dtype=np.float)\n",
    "train_y=np.array(train_y,dtype=np.float)\n",
    "\n",
    "print(train_x.shape)\n",
    "print(train_y.shape)"
   ]
  },
  {
   "cell_type": "code",
   "execution_count": 6,
   "metadata": {},
   "outputs": [
    {
     "name": "stdout",
     "output_type": "stream",
     "text": [
      "5760\n"
     ]
    }
   ],
   "source": [
    "print(train_y.shape[0]*train_y.shape[1])"
   ]
  },
  {
   "cell_type": "code",
   "execution_count": 7,
   "metadata": {},
   "outputs": [],
   "source": [
    "train_x=np.reshape(train_x.transpose(),(train_x.shape[0]*train_x.shape[1]//17,17))\n",
    "train_y=np.reshape(train_y, (train_y.shape[0]*train_y.shape[1],1))"
   ]
  },
  {
   "cell_type": "code",
   "execution_count": 8,
   "metadata": {},
   "outputs": [
    {
     "name": "stdout",
     "output_type": "stream",
     "text": [
      "train_x.shape (5760, 17)\n",
      "train_y.shape (5760, 1)\n"
     ]
    }
   ],
   "source": [
    "print(\"train_x.shape\",train_x.shape)\n",
    "print(\"train_y.shape\",train_y.shape)\n"
   ]
  },
  {
   "cell_type": "markdown",
   "metadata": {},
   "source": [
    "# normalize"
   ]
  },
  {
   "cell_type": "code",
   "execution_count": 9,
   "metadata": {},
   "outputs": [],
   "source": [
    "mean=np.mean(train_x,axis=0)\n",
    "std=np.std(train_x,axis=0)\n",
    "for i in range(len(train_x)):\n",
    "    for j in range(len(train_x[i])):\n",
    "        train_x[i][j]=(train_x[i][j]-mean[j])/std[j]"
   ]
  },
  {
   "cell_type": "code",
   "execution_count": 10,
   "metadata": {},
   "outputs": [
    {
     "name": "stdout",
     "output_type": "stream",
     "text": [
      "[[-1.35579445  0.77924642  0.37595177 ... -1.30408516 -0.84222906\n",
      "  -1.14132397]\n",
      " [-1.03780952  0.77924642 -0.39673931 ... -0.533142    0.09646009\n",
      "   0.74086802]\n",
      " [-0.71982459  0.77924642 -0.21129345 ... -0.5014594  -0.74836014\n",
      "  -0.01200878]\n",
      " ...\n",
      " [-1.35579445  0.77924642 -0.11857052 ... -0.37472902 -0.93609797\n",
      "  -0.29433758]\n",
      " [-1.19680199 -0.01912771 -0.61309281 ... -1.44137641 -1.49931146\n",
      "  -0.10611838]\n",
      " [-1.51478692  0.77924642  0.53048999 ... -0.56482459 -0.27901557\n",
      "   0.27032002]]\n"
     ]
    }
   ],
   "source": [
    "print(train_x)"
   ]
  },
  {
   "cell_type": "markdown",
   "metadata": {},
   "source": [
    "# train"
   ]
  },
  {
   "cell_type": "code",
   "execution_count": 11,
   "metadata": {},
   "outputs": [
    {
     "name": "stdout",
     "output_type": "stream",
     "text": [
      "T= 0\n",
      "Loss: 27.298202228512686\n",
      "T= 500\n",
      "Loss: 27.191050553351552\n",
      "T= 1000\n",
      "Loss: 27.290373699897984\n",
      "T= 1500\n",
      "Loss: 27.42668715229437\n",
      "T= 2000\n",
      "Loss: 27.61319064026596\n",
      "T= 2500\n",
      "Loss: 27.86767703567815\n",
      "T= 3000\n",
      "Loss: 28.21387848569688\n",
      "T= 3500\n",
      "Loss: 28.68308136025182\n",
      "T= 4000\n",
      "Loss: 29.31595042870274\n",
      "T= 4500\n",
      "Loss: 30.164426342184413\n",
      "T= 5000\n",
      "Loss: 31.293472409467515\n",
      "T= 5500\n",
      "Loss: 32.782388037050914\n",
      "T= 6000\n",
      "Loss: 34.72544332608631\n",
      "T= 6500\n",
      "Loss: 37.23178077093205\n",
      "T= 7000\n",
      "Loss: 40.42486153487108\n",
      "T= 7500\n",
      "Loss: 44.44207165918599\n",
      "T= 8000\n",
      "Loss: 49.43524807916847\n",
      "T= 8500\n",
      "Loss: 55.57272469137624\n",
      "T= 9000\n",
      "Loss: 63.043125908820514\n",
      "T= 9500\n",
      "Loss: 72.06077431183924\n"
     ]
    }
   ],
   "source": [
    "weight=np.random.randn(17,1)\n",
    "learning_rate=0.000037555\n",
    "for i in range(10000):\n",
    "    gradient=-2*np.transpose(train_x).dot(train_y-train_x.dot(weight))\n",
    "    \n",
    "    weight=weight-learning_rate*gradient\n",
    "    if i%500==0:\n",
    "#         print(np.max(gradient))\n",
    "        print(\"T=\",i)\n",
    "        print(\"Loss:\",np.power(np.sum(np.power(train_x.dot(weight) - train_y, 2 ))/ train_x.shape[0],0.5))"
   ]
  },
  {
   "cell_type": "code",
   "execution_count": 12,
   "metadata": {},
   "outputs": [
    {
     "name": "stdout",
     "output_type": "stream",
     "text": [
      "T= 0\n",
      "Loss: 27.312389879544067\n",
      "T= 500\n",
      "Loss: 26.92306591288979\n",
      "T= 1000\n",
      "Loss: 26.922879200252662\n",
      "T= 1500\n",
      "Loss: 26.922738956039066\n",
      "T= 2000\n",
      "Loss: 26.922633510198395\n",
      "T= 2500\n",
      "Loss: 26.922554228400156\n",
      "T= 3000\n",
      "Loss: 26.922494618669297\n",
      "T= 3500\n",
      "Loss: 26.9224497998355\n",
      "T= 4000\n",
      "Loss: 26.922416101865934\n",
      "T= 4500\n",
      "Loss: 26.92239076535791\n",
      "T= 5000\n",
      "Loss: 26.922371715591048\n",
      "T= 5500\n",
      "Loss: 26.922357392640812\n",
      "T= 6000\n",
      "Loss: 26.92234662364436\n",
      "T= 6500\n",
      "Loss: 26.922338526760036\n",
      "T= 7000\n",
      "Loss: 26.922332438956936\n",
      "T= 7500\n",
      "Loss: 26.922327861721698\n",
      "T= 8000\n",
      "Loss: 26.92232442023698\n",
      "T= 8500\n",
      "Loss: 26.922321832688812\n",
      "T= 9000\n",
      "Loss: 26.92231988718974\n",
      "T= 9500\n",
      "Loss: 26.922318424427964\n"
     ]
    }
   ],
   "source": [
    "##sample code\n",
    "w=np.random.randn(17,1)\n",
    "learning_rate=2000\n",
    "adagrad_sum=np.zeros(shape=(weight.shape[0],1))\n",
    "for T in range(10000):\n",
    "    if(T % 500 == 0 ):\n",
    "        print(\"T=\",T)\n",
    "        print(\"Loss:\",np.power(np.sum(np.power(train_x.dot(w) - train_y, 2 ))/ train_x.shape[0],0.5))\n",
    "    gradient = (-2) * np.transpose(train_x).dot(train_y-train_x.dot(w)) # 這樣為什麼算是微分??\n",
    "    adagrad_sum += gradient ** 2\n",
    "    w = w - learning_rate * gradient / (np.sqrt(adagrad_sum) + 0.0005)\n",
    "#     w = w - learning_rate * gradient\n",
    "#     print(np.max(gradient))"
   ]
  },
  {
   "cell_type": "code",
   "execution_count": 13,
   "metadata": {},
   "outputs": [],
   "source": [
    "# 壞掉的\n",
    "# weight=np.random.randn(17,1)\n",
    "# learning_rate=0.000001\n",
    "# adagrad_sum=np.zeros(shape=(weight.shape[0],1))\n",
    "# for i in range(100):\n",
    "#     gradient=-2*train_x.T.dot(train_y-train_x.dot(weight))\n",
    "#     print(gradient) #不會收斂\n",
    "#     print('='*20)\n",
    "# #     if np.max(gradient) >1000000000000:\n",
    "# #         break\n",
    "#     adagrad_sum=np.power(gradient,2)*0.0000000001\n",
    "#     print(adagrad_sum)\n",
    "#     learning_rate=learning_rate-math.sqrt(1/(i+0.1))\n",
    "#     weight=weight-learning_rate*gradient/np.sqrt(1/(i*adagrad_sum+0.00001))\n",
    "# #     if i%10==0:\n",
    "# #         print(weight)"
   ]
  },
  {
   "cell_type": "markdown",
   "metadata": {},
   "source": [
    "# test data"
   ]
  },
  {
   "cell_type": "code",
   "execution_count": 14,
   "metadata": {},
   "outputs": [
    {
     "name": "stdout",
     "output_type": "stream",
     "text": [
      "          id          測項     0     1     2     3     4     5     6     7     8\n",
      "0       id_0    AMB_TEMP    21    21    20    20    19    19    19    18    17\n",
      "1       id_0         CH4   1.7   1.7   1.7   1.7   1.7   1.7   1.7   1.7   1.8\n",
      "2       id_0          CO  0.39  0.36  0.36   0.4  0.53  0.55  0.34  0.31  0.23\n",
      "3       id_0        NMHC  0.16  0.24  0.22  0.27  0.27  0.26  0.27  0.29   0.1\n",
      "4       id_0          NO   1.3   1.3   1.3   1.3   1.4   1.6   1.2   1.1   0.9\n",
      "...      ...         ...   ...   ...   ...   ...   ...   ...   ...   ...   ...\n",
      "4315  id_239         THC   1.8   1.8   1.8   1.8   1.7   1.7   1.7   1.7   1.7\n",
      "4316  id_239       WD_HR    80    92    95    95    96    97    96    96    84\n",
      "4317  id_239  WIND_DIREC    76    99    93    97    93    94    98    97    65\n",
      "4318  id_239  WIND_SPEED   2.2   3.2   2.5   3.6     5   4.2   5.7   4.9   3.6\n",
      "4319  id_239       WS_HR   1.7   2.8   2.6   3.3   3.5     5   4.9   5.2   3.6\n",
      "\n",
      "[4320 rows x 11 columns]\n"
     ]
    }
   ],
   "source": [
    "test_data = pd.read_csv(\"test.csv\",header=None)\n",
    "r=list(range(9))\n",
    "columns=['id','測項']\n",
    "for i in range(len(r)):\n",
    "    columns.extend(str(r[i]))\n",
    "test_data.columns=columns\n",
    "print(test_data)"
   ]
  },
  {
   "cell_type": "code",
   "execution_count": 15,
   "metadata": {},
   "outputs": [],
   "source": [
    "for i in range(10 ,len(test_data), 18):\n",
    "    rainFall_row=test_data.iloc[i]\n",
    "#     print(rainFall_row)\n",
    "    for j in range(len(rainFall_row)):\n",
    "        if rainFall_row[j]=='NR':\n",
    "            rainFall_row[j]=0\n",
    "#         print(rainFall_row[j])"
   ]
  },
  {
   "cell_type": "code",
   "execution_count": 16,
   "metadata": {},
   "outputs": [
    {
     "name": "stdout",
     "output_type": "stream",
     "text": [
      "          id          測項     0     1     2     3     4     5     6     7     8\n",
      "0       id_0    AMB_TEMP    21    21    20    20    19    19    19    18    17\n",
      "1       id_0         CH4   1.7   1.7   1.7   1.7   1.7   1.7   1.7   1.7   1.8\n",
      "2       id_0          CO  0.39  0.36  0.36   0.4  0.53  0.55  0.34  0.31  0.23\n",
      "3       id_0        NMHC  0.16  0.24  0.22  0.27  0.27  0.26  0.27  0.29   0.1\n",
      "4       id_0          NO   1.3   1.3   1.3   1.3   1.4   1.6   1.2   1.1   0.9\n",
      "...      ...         ...   ...   ...   ...   ...   ...   ...   ...   ...   ...\n",
      "4315  id_239         THC   1.8   1.8   1.8   1.8   1.7   1.7   1.7   1.7   1.7\n",
      "4316  id_239       WD_HR    80    92    95    95    96    97    96    96    84\n",
      "4317  id_239  WIND_DIREC    76    99    93    97    93    94    98    97    65\n",
      "4318  id_239  WIND_SPEED   2.2   3.2   2.5   3.6     5   4.2   5.7   4.9   3.6\n",
      "4319  id_239       WS_HR   1.7   2.8   2.6   3.3   3.5     5   4.9   5.2   3.6\n",
      "\n",
      "[4320 rows x 11 columns]\n"
     ]
    }
   ],
   "source": [
    "print(test_data)"
   ]
  },
  {
   "cell_type": "code",
   "execution_count": 17,
   "metadata": {},
   "outputs": [
    {
     "name": "stdout",
     "output_type": "stream",
     "text": [
      "[['21' '21' '20' ... '19' '18' '17']\n",
      " ['1.7' '1.7' '1.7' ... '1.7' '1.7' '1.8']\n",
      " ['0.39' '0.36' '0.36' ... '0.34' '0.31' '0.23']\n",
      " ...\n",
      " ['76' '99' '93' ... '98' '97' '65']\n",
      " ['2.2' '3.2' '2.5' ... '5.7' '4.9' '3.6']\n",
      " ['1.7' '2.8' '2.6' ... '4.9' '5.2' '3.6']]\n",
      "(4080, 9)\n",
      "(240, 9)\n"
     ]
    }
   ],
   "source": [
    "test_y=test_data[test_data['測項'].isin(['PM2.5'])]\n",
    "test_x=test_data[True^test_data['測項'].isin(['PM2.5'])]\n",
    "\n",
    "test_x=test_x.iloc[:,2:].values\n",
    "test_y=test_y.iloc[:,2:].values\n",
    "print(test_x)\n",
    "\n",
    "test_x=np.array(test_x,dtype=np.float)\n",
    "test_y=np.array(test_y,dtype=np.float)\n",
    "\n",
    "print(test_x.shape)\n",
    "print(test_y.shape)"
   ]
  },
  {
   "cell_type": "code",
   "execution_count": 18,
   "metadata": {},
   "outputs": [],
   "source": [
    "test_x=np.reshape(test_x.transpose(),(test_x.shape[0]*test_x.shape[1]//17,17))\n",
    "test_y=np.reshape(test_y, (test_y.shape[0]*test_y.shape[1],1))"
   ]
  },
  {
   "cell_type": "code",
   "execution_count": 19,
   "metadata": {},
   "outputs": [
    {
     "name": "stdout",
     "output_type": "stream",
     "text": [
      "X shape (2160, 17)\n",
      "Y shape (2160, 1)\n"
     ]
    }
   ],
   "source": [
    "print(\"X shape\",test_x.shape)\n",
    "print(\"Y shape\",test_y.shape)"
   ]
  },
  {
   "cell_type": "markdown",
   "metadata": {},
   "source": [
    "# predict"
   ]
  },
  {
   "cell_type": "code",
   "execution_count": 20,
   "metadata": {},
   "outputs": [],
   "source": [
    "sample_code_result=test_x.dot(w)\n",
    "result=test_x.dot(weight)"
   ]
  },
  {
   "cell_type": "code",
   "execution_count": 21,
   "metadata": {},
   "outputs": [],
   "source": [
    "f = open(\"my_output.csv\",\"w\")\n",
    "wrt = csv.writer(f)\n",
    "title = ['id','value']\n",
    "wrt.writerow(title) \n",
    "for i in range(240):\n",
    "    content = ['id_'+str(i),result[i][0]]\n",
    "    wrt.writerow(content) \n",
    "f.close()"
   ]
  },
  {
   "cell_type": "code",
   "execution_count": 22,
   "metadata": {
    "scrolled": true
   },
   "outputs": [
    {
     "data": {
      "text/plain": [
       "array([[1587.07978409],\n",
       "       [1555.46437723],\n",
       "       [4288.56960455],\n",
       "       ...,\n",
       "       [3820.08134262],\n",
       "       [4241.81881288],\n",
       "       [ 849.00022188]])"
      ]
     },
     "execution_count": 22,
     "metadata": {},
     "output_type": "execute_result"
    }
   ],
   "source": [
    "result"
   ]
  },
  {
   "cell_type": "code",
   "execution_count": 23,
   "metadata": {},
   "outputs": [
    {
     "data": {
      "text/plain": [
       "array([[ -23.65979868],\n",
       "       [ -66.97778079],\n",
       "       [-388.33569719],\n",
       "       ...,\n",
       "       [-381.81882511],\n",
       "       [-363.78676778],\n",
       "       [-103.47510038]])"
      ]
     },
     "execution_count": 23,
     "metadata": {},
     "output_type": "execute_result"
    }
   ],
   "source": [
    "sample_code_result"
   ]
  },
  {
   "cell_type": "code",
   "execution_count": null,
   "metadata": {},
   "outputs": [],
   "source": []
  }
 ],
 "metadata": {
  "kernelspec": {
   "display_name": "Python 3",
   "language": "python",
   "name": "python3"
  },
  "language_info": {
   "codemirror_mode": {
    "name": "ipython",
    "version": 3
   },
   "file_extension": ".py",
   "mimetype": "text/x-python",
   "name": "python",
   "nbconvert_exporter": "python",
   "pygments_lexer": "ipython3",
   "version": "3.7.6"
  }
 },
 "nbformat": 4,
 "nbformat_minor": 2
}

{
 "cells": [
  {
   "cell_type": "code",
   "execution_count": 1,
   "metadata": {},
   "outputs": [
    {
     "name": "stderr",
     "output_type": "stream",
     "text": [
      "Using TensorFlow backend.\n"
     ]
    }
   ],
   "source": [
    "import pandas as pd\n",
    "import numpy as np\n",
    "import keras\n",
    "from keras.layers import Dense\n",
    "from keras.layers import BatchNormalization\n",
    "from keras import Sequential\n",
    "import scipy\n",
    "import matplotlib.pyplot as plt\n",
    "import csv"
   ]
  },
  {
   "cell_type": "markdown",
   "metadata": {},
   "source": [
    "# read data"
   ]
  },
  {
   "cell_type": "code",
   "execution_count": 2,
   "metadata": {},
   "outputs": [
    {
     "name": "stdout",
     "output_type": "stream",
     "text": [
      "              日期  測站          測項     0     1     2     3     4     5     6  \\\n",
      "0       2014/1/1  豐原    AMB_TEMP    14    14    14    13    12    12    12   \n",
      "1       2014/1/1  豐原         CH4   1.8   1.8   1.8   1.8   1.8   1.8   1.8   \n",
      "2       2014/1/1  豐原          CO  0.51  0.41  0.39  0.37  0.35   0.3  0.37   \n",
      "3       2014/1/1  豐原        NMHC   0.2  0.15  0.13  0.12  0.11  0.06   0.1   \n",
      "4       2014/1/1  豐原          NO   0.9   0.6   0.5   1.7   1.8   1.5   1.9   \n",
      "...          ...  ..         ...   ...   ...   ...   ...   ...   ...   ...   \n",
      "4315  2014/12/20  豐原         THC   1.8   1.8   1.8   1.8   1.8   1.7   1.7   \n",
      "4316  2014/12/20  豐原       WD_HR    46    13    61    44    55    68    66   \n",
      "4317  2014/12/20  豐原  WIND_DIREC    36    55    72   327    74    52    59   \n",
      "4318  2014/12/20  豐原  WIND_SPEED   1.9   2.4   1.9   2.8   2.3   1.9   2.1   \n",
      "4319  2014/12/20  豐原       WS_HR   0.7   0.8   1.8     1   1.9   1.7   2.1   \n",
      "\n",
      "      ...    14    15    16    17    18    19    20    21    22    23  \n",
      "0     ...    22    22    21    19    17    16    15    15    15    15  \n",
      "1     ...   1.8   1.8   1.8   1.8   1.8   1.8   1.8   1.8   1.8   1.8  \n",
      "2     ...  0.37  0.37  0.47  0.69  0.56  0.45  0.38  0.35  0.36  0.32  \n",
      "3     ...   0.1  0.13  0.14  0.23  0.18  0.12   0.1  0.09   0.1  0.08  \n",
      "4     ...   2.5   2.2   2.5   2.3   2.1   1.9   1.5   1.6   1.8   1.5  \n",
      "...   ...   ...   ...   ...   ...   ...   ...   ...   ...   ...   ...  \n",
      "4315  ...   1.8   1.8     2   2.1     2   1.9   1.9   1.9     2     2  \n",
      "4316  ...    59   308   327    21   100   109   108   114   108   109  \n",
      "4317  ...    18   311    52    54   121    97   107   118   100   105  \n",
      "4318  ...   2.3   2.6   1.3     1   1.5     1   1.7   1.5     2     2  \n",
      "4319  ...   1.3   1.7   0.7   0.4   1.1   1.4   1.3   1.6   1.8     2  \n",
      "\n",
      "[4320 rows x 27 columns]\n"
     ]
    }
   ],
   "source": [
    "train_data = pd.read_csv(\"train.csv\", encoding=\"big5\")\n",
    "print(train_data)"
   ]
  },
  {
   "cell_type": "code",
   "execution_count": 3,
   "metadata": {},
   "outputs": [
    {
     "name": "stdout",
     "output_type": "stream",
     "text": [
      "          id          測向     0     1     2     3     4     5     6     7     8\n",
      "0       id_0    AMB_TEMP    21    21    20    20    19    19    19    18    17\n",
      "1       id_0         CH4   1.7   1.7   1.7   1.7   1.7   1.7   1.7   1.7   1.8\n",
      "2       id_0          CO  0.39  0.36  0.36   0.4  0.53  0.55  0.34  0.31  0.23\n",
      "3       id_0        NMHC  0.16  0.24  0.22  0.27  0.27  0.26  0.27  0.29   0.1\n",
      "4       id_0          NO   1.3   1.3   1.3   1.3   1.4   1.6   1.2   1.1   0.9\n",
      "...      ...         ...   ...   ...   ...   ...   ...   ...   ...   ...   ...\n",
      "4315  id_239         THC   1.8   1.8   1.8   1.8   1.7   1.7   1.7   1.7   1.7\n",
      "4316  id_239       WD_HR    80    92    95    95    96    97    96    96    84\n",
      "4317  id_239  WIND_DIREC    76    99    93    97    93    94    98    97    65\n",
      "4318  id_239  WIND_SPEED   2.2   3.2   2.5   3.6     5   4.2   5.7   4.9   3.6\n",
      "4319  id_239       WS_HR   1.7   2.8   2.6   3.3   3.5     5   4.9   5.2   3.6\n",
      "\n",
      "[4320 rows x 11 columns]\n"
     ]
    }
   ],
   "source": [
    "test_data = pd.read_csv(\"test.csv\",header=None)\n",
    "\n",
    "r=range(test_data.shape[1]-2)\n",
    "columns=['id','測向']\n",
    "for i in r:\n",
    "    columns.extend(str(i))\n",
    "test_data.columns=columns\n",
    "print(test_data)"
   ]
  },
  {
   "cell_type": "markdown",
   "metadata": {},
   "source": [
    "# data preprocess"
   ]
  },
  {
   "cell_type": "code",
   "execution_count": 4,
   "metadata": {},
   "outputs": [],
   "source": [
    "for i in range(10 ,len(train_data), 18):\n",
    "    rainFall_row=train_data.iloc[i]\n",
    "#     print(rainFall_row)\n",
    "    for j in range(len(rainFall_row)):\n",
    "        if rainFall_row[j]=='NR':\n",
    "            rainFall_row[j]=0\n",
    "        #print(rainFall_row[j])"
   ]
  },
  {
   "cell_type": "code",
   "execution_count": 5,
   "metadata": {
    "scrolled": true
   },
   "outputs": [
    {
     "name": "stdout",
     "output_type": "stream",
     "text": [
      "(4080, 24)\n",
      "(240, 24)\n"
     ]
    }
   ],
   "source": [
    "train_y=train_data[train_data['測項'].isin(['PM2.5'])]\n",
    "train_x=train_data[True^train_data['測項'].isin(['PM2.5'])]\n",
    "\n",
    "train_x=train_x.iloc[:,3:].values\n",
    "train_y=train_y.iloc[:,3:].values\n",
    "\n",
    "train_x=np.array(train_x,dtype=np.float)\n",
    "train_y=np.array(train_y,dtype=np.float)\n",
    "\n",
    "print(train_x.shape)\n",
    "print(train_y.shape)"
   ]
  },
  {
   "cell_type": "code",
   "execution_count": 6,
   "metadata": {},
   "outputs": [
    {
     "name": "stdout",
     "output_type": "stream",
     "text": [
      "5760\n"
     ]
    }
   ],
   "source": [
    "print(train_y.shape[0]*train_y.shape[1])"
   ]
  },
  {
   "cell_type": "code",
   "execution_count": 7,
   "metadata": {},
   "outputs": [],
   "source": [
    "train_x=np.reshape(train_x.transpose(),(train_x.shape[0]*train_x.shape[1]//17,17))\n",
    "train_y=np.reshape(train_y, (train_y.shape[0]*train_y.shape[1],))"
   ]
  },
  {
   "cell_type": "code",
   "execution_count": 8,
   "metadata": {},
   "outputs": [
    {
     "name": "stdout",
     "output_type": "stream",
     "text": [
      "shape (5760, 17)\n",
      "======\n",
      "[[ 14.     1.8    0.51 ...  35.     1.4    0.5 ]\n",
      " [ 16.     1.8    0.26 ... 108.     2.4    2.5 ]\n",
      " [ 18.     1.8    0.32 ... 111.     1.5    1.7 ]\n",
      " ...\n",
      " [ 14.     1.8    0.35 ... 123.     1.3    1.4 ]\n",
      " [ 15.     1.7    0.19 ...  22.     0.7    1.6 ]\n",
      " [ 13.     1.8    0.56 ... 105.     2.     2.  ]]\n"
     ]
    }
   ],
   "source": [
    "print(\"shape\",train_x.shape)\n",
    "print('======')\n",
    "print(train_x)"
   ]
  },
  {
   "cell_type": "markdown",
   "metadata": {},
   "source": [
    "# train"
   ]
  },
  {
   "cell_type": "code",
   "execution_count": 9,
   "metadata": {},
   "outputs": [
    {
     "name": "stdout",
     "output_type": "stream",
     "text": [
      "WARNING:tensorflow:From /home/shon/anaconda3/envs/Lee_hw1/lib/python3.7/site-packages/keras/backend/tensorflow_backend.py:74: The name tf.get_default_graph is deprecated. Please use tf.compat.v1.get_default_graph instead.\n",
      "\n",
      "WARNING:tensorflow:From /home/shon/anaconda3/envs/Lee_hw1/lib/python3.7/site-packages/keras/optimizers.py:790: The name tf.train.Optimizer is deprecated. Please use tf.compat.v1.train.Optimizer instead.\n",
      "\n"
     ]
    }
   ],
   "source": [
    "model=keras.Sequential()\n",
    "optimizer=keras.optimizers.RMSprop(0.001, rho=0.9)\n",
    "# 加入normalize完全無效\n",
    "model.add(BatchNormalization(axis=1, momentum=0.99, epsilon=0.001, center=True, scale=True, beta_initializer='zeros', gamma_initializer='ones', moving_mean_initializer='zeros', moving_variance_initializer='ones', beta_regularizer=None, gamma_regularizer=None, beta_constraint=None, gamma_constraint=None))\n",
    "model.add(Dense(1,input_shape=(17,)))\n",
    "# model.compile(loss=\"mse\", optimizer='sgd')\n",
    "model.compile(loss=\"mse\", optimizer=optimizer)"
   ]
  },
  {
   "cell_type": "code",
   "execution_count": 10,
   "metadata": {},
   "outputs": [
    {
     "name": "stdout",
     "output_type": "stream",
     "text": [
      "WARNING:tensorflow:From /home/shon/anaconda3/envs/Lee_hw1/lib/python3.7/site-packages/keras/backend/tensorflow_backend.py:517: The name tf.placeholder is deprecated. Please use tf.compat.v1.placeholder instead.\n",
      "\n",
      "WARNING:tensorflow:From /home/shon/anaconda3/envs/Lee_hw1/lib/python3.7/site-packages/keras/backend/tensorflow_backend.py:133: The name tf.placeholder_with_default is deprecated. Please use tf.compat.v1.placeholder_with_default instead.\n",
      "\n",
      "WARNING:tensorflow:From /home/shon/anaconda3/envs/Lee_hw1/lib/python3.7/site-packages/keras/backend/tensorflow_backend.py:4138: The name tf.random_uniform is deprecated. Please use tf.random.uniform instead.\n",
      "\n",
      "WARNING:tensorflow:From /home/shon/anaconda3/envs/Lee_hw1/lib/python3.7/site-packages/keras/backend/tensorflow_backend.py:986: The name tf.assign_add is deprecated. Please use tf.compat.v1.assign_add instead.\n",
      "\n",
      "WARNING:tensorflow:From /home/shon/anaconda3/envs/Lee_hw1/lib/python3.7/site-packages/keras/backend/tensorflow_backend.py:973: The name tf.assign is deprecated. Please use tf.compat.v1.assign instead.\n",
      "\n",
      "WARNING:tensorflow:From /home/shon/anaconda3/envs/Lee_hw1/lib/python3.7/site-packages/keras/backend/tensorflow_backend.py:2741: The name tf.Session is deprecated. Please use tf.compat.v1.Session instead.\n",
      "\n",
      "Epoch 1/50\n",
      "WARNING:tensorflow:From /home/shon/anaconda3/envs/Lee_hw1/lib/python3.7/site-packages/keras/backend/tensorflow_backend.py:174: The name tf.get_default_session is deprecated. Please use tf.compat.v1.get_default_session instead.\n",
      "\n",
      "WARNING:tensorflow:From /home/shon/anaconda3/envs/Lee_hw1/lib/python3.7/site-packages/keras/backend/tensorflow_backend.py:181: The name tf.ConfigProto is deprecated. Please use tf.compat.v1.ConfigProto instead.\n",
      "\n",
      "WARNING:tensorflow:From /home/shon/anaconda3/envs/Lee_hw1/lib/python3.7/site-packages/keras/backend/tensorflow_backend.py:190: The name tf.global_variables is deprecated. Please use tf.compat.v1.global_variables instead.\n",
      "\n",
      "WARNING:tensorflow:From /home/shon/anaconda3/envs/Lee_hw1/lib/python3.7/site-packages/keras/backend/tensorflow_backend.py:199: The name tf.is_variable_initialized is deprecated. Please use tf.compat.v1.is_variable_initialized instead.\n",
      "\n",
      "WARNING:tensorflow:From /home/shon/anaconda3/envs/Lee_hw1/lib/python3.7/site-packages/keras/backend/tensorflow_backend.py:206: The name tf.variables_initializer is deprecated. Please use tf.compat.v1.variables_initializer instead.\n",
      "\n",
      "5760/5760 [==============================] - 1s 125us/step - loss: 704.0524\n",
      "Epoch 2/50\n",
      "5760/5760 [==============================] - 0s 37us/step - loss: 626.7872\n",
      "Epoch 3/50\n",
      "5760/5760 [==============================] - 0s 36us/step - loss: 525.2320\n",
      "Epoch 4/50\n",
      "5760/5760 [==============================] - 0s 37us/step - loss: 417.5163\n",
      "Epoch 5/50\n",
      "5760/5760 [==============================] - 0s 37us/step - loss: 330.7184\n",
      "Epoch 6/50\n",
      "5760/5760 [==============================] - 0s 38us/step - loss: 285.5025\n",
      "Epoch 7/50\n",
      "5760/5760 [==============================] - 0s 38us/step - loss: 276.2937\n",
      "Epoch 8/50\n",
      "5760/5760 [==============================] - 0s 43us/step - loss: 275.6465\n",
      "Epoch 9/50\n",
      "5760/5760 [==============================] - 0s 39us/step - loss: 275.1447\n",
      "Epoch 10/50\n",
      "5760/5760 [==============================] - 0s 39us/step - loss: 274.2696\n",
      "Epoch 11/50\n",
      "5760/5760 [==============================] - 0s 36us/step - loss: 274.0699\n",
      "Epoch 12/50\n",
      "5760/5760 [==============================] - 0s 40us/step - loss: 272.9836\n",
      "Epoch 13/50\n",
      "5760/5760 [==============================] - 0s 39us/step - loss: 273.5062\n",
      "Epoch 14/50\n",
      "5760/5760 [==============================] - 0s 40us/step - loss: 273.4001\n",
      "Epoch 15/50\n",
      "5760/5760 [==============================] - 0s 40us/step - loss: 272.7560\n",
      "Epoch 16/50\n",
      "5760/5760 [==============================] - 0s 38us/step - loss: 271.9350\n",
      "Epoch 17/50\n",
      "5760/5760 [==============================] - 0s 38us/step - loss: 271.6543\n",
      "Epoch 18/50\n",
      "5760/5760 [==============================] - 0s 41us/step - loss: 270.8522\n",
      "Epoch 19/50\n",
      "5760/5760 [==============================] - 0s 39us/step - loss: 271.3480\n",
      "Epoch 20/50\n",
      "5760/5760 [==============================] - 0s 38us/step - loss: 270.9964\n",
      "Epoch 21/50\n",
      "5760/5760 [==============================] - 0s 40us/step - loss: 271.0746\n",
      "Epoch 22/50\n",
      "5760/5760 [==============================] - 0s 38us/step - loss: 270.8221\n",
      "Epoch 23/50\n",
      "5760/5760 [==============================] - 0s 41us/step - loss: 269.9584\n",
      "Epoch 24/50\n",
      "5760/5760 [==============================] - 0s 38us/step - loss: 270.4237\n",
      "Epoch 25/50\n",
      "5760/5760 [==============================] - 0s 38us/step - loss: 270.2555\n",
      "Epoch 26/50\n",
      "5760/5760 [==============================] - 0s 41us/step - loss: 269.8740\n",
      "Epoch 27/50\n",
      "5760/5760 [==============================] - 0s 39us/step - loss: 270.1223\n",
      "Epoch 28/50\n",
      "5760/5760 [==============================] - 0s 40us/step - loss: 269.4122\n",
      "Epoch 29/50\n",
      "5760/5760 [==============================] - 0s 37us/step - loss: 269.7876\n",
      "Epoch 30/50\n",
      "5760/5760 [==============================] - 0s 38us/step - loss: 269.0893\n",
      "Epoch 31/50\n",
      "5760/5760 [==============================] - ETA: 0s - loss: 268.511 - 0s 35us/step - loss: 269.5669\n",
      "Epoch 32/50\n",
      "5760/5760 [==============================] - 0s 39us/step - loss: 269.0994\n",
      "Epoch 33/50\n",
      "5760/5760 [==============================] - 0s 39us/step - loss: 269.2207\n",
      "Epoch 34/50\n",
      "5760/5760 [==============================] - 0s 40us/step - loss: 269.3361\n",
      "Epoch 35/50\n",
      "5760/5760 [==============================] - 0s 40us/step - loss: 268.7364\n",
      "Epoch 36/50\n",
      "5760/5760 [==============================] - 0s 37us/step - loss: 268.8886\n",
      "Epoch 37/50\n",
      "5760/5760 [==============================] - 0s 38us/step - loss: 268.8538\n",
      "Epoch 38/50\n",
      "5760/5760 [==============================] - 0s 37us/step - loss: 269.0505\n",
      "Epoch 39/50\n",
      "5760/5760 [==============================] - 0s 38us/step - loss: 269.0061\n",
      "Epoch 40/50\n",
      "5760/5760 [==============================] - 0s 37us/step - loss: 268.9661\n",
      "Epoch 41/50\n",
      "5760/5760 [==============================] - 0s 39us/step - loss: 268.6600\n",
      "Epoch 42/50\n",
      "5760/5760 [==============================] - 0s 37us/step - loss: 268.3983\n",
      "Epoch 43/50\n",
      "5760/5760 [==============================] - 0s 40us/step - loss: 268.6080\n",
      "Epoch 44/50\n",
      "5760/5760 [==============================] - 0s 37us/step - loss: 268.2408\n",
      "Epoch 45/50\n",
      "5760/5760 [==============================] - 0s 40us/step - loss: 268.1990\n",
      "Epoch 46/50\n",
      "5760/5760 [==============================] - 0s 38us/step - loss: 268.3192\n",
      "Epoch 47/50\n",
      "5760/5760 [==============================] - 0s 40us/step - loss: 268.3745\n",
      "Epoch 48/50\n",
      "5760/5760 [==============================] - 0s 39us/step - loss: 268.1468\n",
      "Epoch 49/50\n",
      "5760/5760 [==============================] - 0s 41us/step - loss: 267.8726\n",
      "Epoch 50/50\n",
      "5760/5760 [==============================] - 0s 40us/step - loss: 268.6208\n"
     ]
    }
   ],
   "source": [
    "model.fit(train_x, train_y,epochs=50)\n",
    "model.save('weight.h5')"
   ]
  },
  {
   "cell_type": "markdown",
   "metadata": {},
   "source": [
    "# test data"
   ]
  },
  {
   "cell_type": "code",
   "execution_count": 11,
   "metadata": {},
   "outputs": [
    {
     "name": "stdout",
     "output_type": "stream",
     "text": [
      "          id          測項     0     1     2     3     4     5     6     7     8\n",
      "0       id_0    AMB_TEMP    21    21    20    20    19    19    19    18    17\n",
      "1       id_0         CH4   1.7   1.7   1.7   1.7   1.7   1.7   1.7   1.7   1.8\n",
      "2       id_0          CO  0.39  0.36  0.36   0.4  0.53  0.55  0.34  0.31  0.23\n",
      "3       id_0        NMHC  0.16  0.24  0.22  0.27  0.27  0.26  0.27  0.29   0.1\n",
      "4       id_0          NO   1.3   1.3   1.3   1.3   1.4   1.6   1.2   1.1   0.9\n",
      "...      ...         ...   ...   ...   ...   ...   ...   ...   ...   ...   ...\n",
      "4315  id_239         THC   1.8   1.8   1.8   1.8   1.7   1.7   1.7   1.7   1.7\n",
      "4316  id_239       WD_HR    80    92    95    95    96    97    96    96    84\n",
      "4317  id_239  WIND_DIREC    76    99    93    97    93    94    98    97    65\n",
      "4318  id_239  WIND_SPEED   2.2   3.2   2.5   3.6     5   4.2   5.7   4.9   3.6\n",
      "4319  id_239       WS_HR   1.7   2.8   2.6   3.3   3.5     5   4.9   5.2   3.6\n",
      "\n",
      "[4320 rows x 11 columns]\n"
     ]
    }
   ],
   "source": [
    "test_data = pd.read_csv(\"test.csv\",header=None)\n",
    "r=list(range(9))\n",
    "columns=['id','測項']\n",
    "for i in range(len(r)):\n",
    "    columns.extend(str(r[i]))\n",
    "test_data.columns=columns\n",
    "print(test_data)"
   ]
  },
  {
   "cell_type": "code",
   "execution_count": 12,
   "metadata": {},
   "outputs": [],
   "source": [
    "for i in range(10 ,len(test_data), 18):\n",
    "    rainFall_row=test_data.iloc[i]\n",
    "#     print(rainFall_row)\n",
    "    for j in range(len(rainFall_row)):\n",
    "        if rainFall_row[j]=='NR':\n",
    "            rainFall_row[j]=0\n",
    "#         print(rainFall_row[j])"
   ]
  },
  {
   "cell_type": "code",
   "execution_count": 13,
   "metadata": {},
   "outputs": [
    {
     "name": "stdout",
     "output_type": "stream",
     "text": [
      "          id          測項     0     1     2     3     4     5     6     7     8\n",
      "0       id_0    AMB_TEMP    21    21    20    20    19    19    19    18    17\n",
      "1       id_0         CH4   1.7   1.7   1.7   1.7   1.7   1.7   1.7   1.7   1.8\n",
      "2       id_0          CO  0.39  0.36  0.36   0.4  0.53  0.55  0.34  0.31  0.23\n",
      "3       id_0        NMHC  0.16  0.24  0.22  0.27  0.27  0.26  0.27  0.29   0.1\n",
      "4       id_0          NO   1.3   1.3   1.3   1.3   1.4   1.6   1.2   1.1   0.9\n",
      "...      ...         ...   ...   ...   ...   ...   ...   ...   ...   ...   ...\n",
      "4315  id_239         THC   1.8   1.8   1.8   1.8   1.7   1.7   1.7   1.7   1.7\n",
      "4316  id_239       WD_HR    80    92    95    95    96    97    96    96    84\n",
      "4317  id_239  WIND_DIREC    76    99    93    97    93    94    98    97    65\n",
      "4318  id_239  WIND_SPEED   2.2   3.2   2.5   3.6     5   4.2   5.7   4.9   3.6\n",
      "4319  id_239       WS_HR   1.7   2.8   2.6   3.3   3.5     5   4.9   5.2   3.6\n",
      "\n",
      "[4320 rows x 11 columns]\n"
     ]
    }
   ],
   "source": [
    "print(test_data)"
   ]
  },
  {
   "cell_type": "code",
   "execution_count": 14,
   "metadata": {},
   "outputs": [
    {
     "name": "stdout",
     "output_type": "stream",
     "text": [
      "[['21' '21' '20' ... '19' '18' '17']\n",
      " ['1.7' '1.7' '1.7' ... '1.7' '1.7' '1.8']\n",
      " ['0.39' '0.36' '0.36' ... '0.34' '0.31' '0.23']\n",
      " ...\n",
      " ['76' '99' '93' ... '98' '97' '65']\n",
      " ['2.2' '3.2' '2.5' ... '5.7' '4.9' '3.6']\n",
      " ['1.7' '2.8' '2.6' ... '4.9' '5.2' '3.6']]\n",
      "(4080, 9)\n",
      "(240, 9)\n"
     ]
    }
   ],
   "source": [
    "test_y=test_data[test_data['測項'].isin(['PM2.5'])]\n",
    "test_x=test_data[True^test_data['測項'].isin(['PM2.5'])]\n",
    "\n",
    "test_x=test_x.iloc[:,2:].values\n",
    "test_y=test_y.iloc[:,2:].values\n",
    "print(test_x)\n",
    "\n",
    "test_x=np.array(test_x,dtype=np.float)\n",
    "test_y=np.array(test_y,dtype=np.float)\n",
    "\n",
    "print(test_x.shape)\n",
    "print(test_y.shape)"
   ]
  },
  {
   "cell_type": "code",
   "execution_count": 15,
   "metadata": {},
   "outputs": [],
   "source": [
    "test_x=np.reshape(test_x.transpose(),(test_x.shape[0]*test_x.shape[1]//17,17))\n",
    "test_y=np.reshape(test_y, (test_y.shape[0]*test_y.shape[1],))"
   ]
  },
  {
   "cell_type": "code",
   "execution_count": 16,
   "metadata": {},
   "outputs": [
    {
     "name": "stdout",
     "output_type": "stream",
     "text": [
      "X shape (2160, 17)\n",
      "Y shape (2160,)\n"
     ]
    }
   ],
   "source": [
    "print(\"X shape\",test_x.shape)\n",
    "print(\"Y shape\",test_y.shape)"
   ]
  },
  {
   "cell_type": "code",
   "execution_count": 17,
   "metadata": {},
   "outputs": [
    {
     "name": "stdout",
     "output_type": "stream",
     "text": [
      "[[23.123352]\n",
      " [22.433868]\n",
      " [13.651312]\n",
      " ...\n",
      " [15.663336]\n",
      " [ 8.189766]\n",
      " [18.424501]]\n"
     ]
    }
   ],
   "source": [
    "result=model.predict(test_x)\n",
    "print(result)"
   ]
  },
  {
   "cell_type": "code",
   "execution_count": 18,
   "metadata": {},
   "outputs": [],
   "source": [
    "f = open(\"my_output.csv\",\"w\")\n",
    "w = csv.writer(f)\n",
    "title = ['id','value']\n",
    "w.writerow(title) \n",
    "for i in range(240):\n",
    "    content = ['id_'+str(i),result[i][0]]\n",
    "    w.writerow(content) "
   ]
  },
  {
   "cell_type": "code",
   "execution_count": null,
   "metadata": {},
   "outputs": [],
   "source": []
  },
  {
   "cell_type": "code",
   "execution_count": null,
   "metadata": {},
   "outputs": [],
   "source": []
  }
 ],
 "metadata": {
  "kernelspec": {
   "display_name": "Python 3",
   "language": "python",
   "name": "python3"
  },
  "language_info": {
   "codemirror_mode": {
    "name": "ipython",
    "version": 3
   },
   "file_extension": ".py",
   "mimetype": "text/x-python",
   "name": "python",
   "nbconvert_exporter": "python",
   "pygments_lexer": "ipython3",
   "version": "3.7.6"
  }
 },
 "nbformat": 4,
 "nbformat_minor": 2
}

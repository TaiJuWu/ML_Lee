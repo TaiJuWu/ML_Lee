{
 "cells": [
  {
   "cell_type": "markdown",
   "metadata": {},
   "source": [
    "# 沒寫完predict 與 output.csv"
   ]
  },
  {
   "cell_type": "code",
   "execution_count": 1,
   "metadata": {},
   "outputs": [],
   "source": [
    "import numpy as np\n",
    "import pandas as pd"
   ]
  },
  {
   "cell_type": "code",
   "execution_count": 2,
   "metadata": {},
   "outputs": [],
   "source": [
    "train_x=pd.read_csv('X_train').values\n",
    "train_y=pd.read_csv('Y_train').values\n",
    "test_x=pd.read_csv('X_test').values"
   ]
  },
  {
   "cell_type": "markdown",
   "metadata": {},
   "source": [
    "# data perprocess"
   ]
  },
  {
   "cell_type": "code",
   "execution_count": 3,
   "metadata": {},
   "outputs": [],
   "source": [
    "# normalize\n",
    "mean=np.mean(train_x,axis=0).reshape(1,-1)\n",
    "std=np.std(train_x,axis=0).reshape(1,-1)\n",
    "\n",
    "train_x=((train_x-mean)/std)\n"
   ]
  },
  {
   "cell_type": "code",
   "execution_count": 4,
   "metadata": {},
   "outputs": [
    {
     "data": {
      "text/plain": [
       "(32561, 1)"
      ]
     },
     "execution_count": 4,
     "metadata": {},
     "output_type": "execute_result"
    }
   ],
   "source": [
    "train_y.shape"
   ]
  },
  {
   "cell_type": "code",
   "execution_count": 5,
   "metadata": {},
   "outputs": [],
   "source": [
    "class_0_id=list()\n",
    "class_1_id=list()\n",
    "for i in range(len(train_y)):\n",
    "    if train_y[i][0] == 0:\n",
    "        class_0_id.append(i)\n",
    "    else:\n",
    "        class_1_id.append(i)"
   ]
  },
  {
   "cell_type": "code",
   "execution_count": 6,
   "metadata": {},
   "outputs": [],
   "source": [
    "class_0_feature=train_x[class_0_id]\n",
    "class_1_feature=train_x[class_1_id]"
   ]
  },
  {
   "cell_type": "code",
   "execution_count": 7,
   "metadata": {},
   "outputs": [
    {
     "name": "stdout",
     "output_type": "stream",
     "text": [
      "class_0_feature shape: (24720, 106)\n",
      "class_1_feature shape: (7841, 106)\n"
     ]
    }
   ],
   "source": [
    "print('class_0_feature shape:', class_0_feature.shape)\n",
    "print('class_1_feature shape:', class_1_feature.shape)"
   ]
  },
  {
   "cell_type": "markdown",
   "metadata": {},
   "source": [
    "# generative model"
   ]
  },
  {
   "cell_type": "code",
   "execution_count": 9,
   "metadata": {},
   "outputs": [
    {
     "name": "stdout",
     "output_type": "stream",
     "text": [
      "(106, 106)\n",
      "mu_1.shape: (7841, 106)\n",
      "CPU times: user 814 ms, sys: 3.95 ms, total: 818 ms\n",
      "Wall time: 817 ms\n"
     ]
    }
   ],
   "source": [
    "%%time\n",
    "# class 1\n",
    "mu_0=np.mean(class_0_feature,axis=0) \n",
    "mu_0=mu_0.reshape(1,mu_0.shape[0])\n",
    "mu_0=mu_0.repeat(class_0_feature.shape[0],axis=0)\n",
    "# print(\"mu_0.shape:\",mu_0.shape)\n",
    "\n",
    "n = class_0_feature.shape[1]\n",
    "sigma_0 = np.zeros((n,n))\n",
    "for i in range(class_0_feature.shape[0]):\n",
    "    # 問題出在這個內積完以後是(106,)而不是(1,106)\n",
    "    temp=class_0_feature[i]-mu_0[i]\n",
    "    temp=temp.reshape(1,-1)\n",
    "    sigma_0 += np.dot(temp.T, temp) / class_0_feature.shape[0]\n",
    "\n",
    "    \n",
    "print(sigma_0.shape)\n",
    "\n",
    "# class 2\n",
    "mu_1=np.mean(class_1_feature,axis=0)\n",
    "mu_1=mu_1.reshape(1,mu_1.shape[0])\n",
    "mu_1=mu_1.repeat(class_1_feature.shape[0],axis=0)\n",
    "print(\"mu_1.shape:\",mu_1.shape)\n",
    "\n",
    "n = class_1_feature.shape[1]\n",
    "sigma_1 = np.zeros((n,n))\n",
    "for i in range(class_1_feature.shape[0]):\n",
    "    temp=class_1_feature[i]-mu_1[i]\n",
    "    temp=temp.reshape(1,-1)\n",
    "    sigma_1 += np.dot(temp.T,temp) / class_1_feature.shape[0]\n"
   ]
  },
  {
   "cell_type": "code",
   "execution_count": 45,
   "metadata": {},
   "outputs": [],
   "source": [
    "from math import log,exp\n",
    "sigma=(class_0_feature.shape[0]*sigma_0+class_1_feature.shape[0]*sigma_1)/(class_0_feature.shape[0]+class_1_feature.shape[0])\n",
    "inv_sig=np.linalg.inv(sigma)\n",
    "weight=((mu_0[0]-mu_1[0]).dot(inv_sig))\n",
    "bias=(-0.5)*mu_0[0].dot(inv_sig).dot(mu_0[0].T)\\\n",
    "+0.5*mu_1[0].dot(inv_sig).dot(mu_1[0].T)\\\n",
    "+log(class_0_feature.shape[0]/class_1_feature.shape[0])"
   ]
  },
  {
   "cell_type": "code",
   "execution_count": 46,
   "metadata": {},
   "outputs": [],
   "source": [
    "# 輸入維一個sample的feature\n",
    "def func(x):\n",
    "    global weight\n",
    "    global bias\n",
    "    z=weight.dot(x)+bias\n",
    "    sigmoid=1/1+exp(z)"
   ]
  }
 ],
 "metadata": {
  "kernelspec": {
   "display_name": "Python 3",
   "language": "python",
   "name": "python3"
  },
  "language_info": {
   "codemirror_mode": {
    "name": "ipython",
    "version": 3
   },
   "file_extension": ".py",
   "mimetype": "text/x-python",
   "name": "python",
   "nbconvert_exporter": "python",
   "pygments_lexer": "ipython3",
   "version": "3.7.6"
  }
 },
 "nbformat": 4,
 "nbformat_minor": 4
}
